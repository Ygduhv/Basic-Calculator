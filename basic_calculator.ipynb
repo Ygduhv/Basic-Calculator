{
 "cells": [
  {
   "cell_type": "code",
   "execution_count": 6,
   "id": "30387c16",
   "metadata": {},
   "outputs": [],
   "source": [
    "def basic_calculate(a,b,operation):\n",
    "    \n",
    "    if(a.isnumeric() & b.isnumeric()):\n",
    "        a = float(a)\n",
    "        b = float(b)\n",
    "        if operation == \"add\":\n",
    "            result = a+b\n",
    "        elif operation == \"sub\" :\n",
    "            result = a-b\n",
    "        elif operation == \"mul\":\n",
    "            result = a*b\n",
    "        elif operation == \"div\":\n",
    "            result = a/b\n",
    "        else:\n",
    "            result = \"Operation suppored: add,sub,mul,div only\"\n",
    "            \n",
    "    else:\n",
    "        result = \"please enter the valid number for a and b\"\n",
    "        \n",
    "    return result"
   ]
  },
  {
   "cell_type": "code",
   "execution_count": 7,
   "id": "356b6743",
   "metadata": {},
   "outputs": [
    {
     "data": {
      "text/plain": [
       "102.0"
      ]
     },
     "execution_count": 7,
     "metadata": {},
     "output_type": "execute_result"
    }
   ],
   "source": [
    "basic_calculate('100','2','add')"
   ]
  },
  {
   "cell_type": "code",
   "execution_count": 8,
   "id": "f486f839",
   "metadata": {},
   "outputs": [
    {
     "data": {
      "text/plain": [
       "98.0"
      ]
     },
     "execution_count": 8,
     "metadata": {},
     "output_type": "execute_result"
    }
   ],
   "source": [
    "basic_calculate('100','2','sub')"
   ]
  },
  {
   "cell_type": "code",
   "execution_count": 9,
   "id": "c5e63462",
   "metadata": {},
   "outputs": [
    {
     "data": {
      "text/plain": [
       "200.0"
      ]
     },
     "execution_count": 9,
     "metadata": {},
     "output_type": "execute_result"
    }
   ],
   "source": [
    "basic_calculate('100','2','mul')"
   ]
  },
  {
   "cell_type": "code",
   "execution_count": 10,
   "id": "1173eb35",
   "metadata": {},
   "outputs": [
    {
     "data": {
      "text/plain": [
       "50.0"
      ]
     },
     "execution_count": 10,
     "metadata": {},
     "output_type": "execute_result"
    }
   ],
   "source": [
    "basic_calculate('100','2','div')"
   ]
  },
  {
   "cell_type": "code",
   "execution_count": 1,
   "id": "666e2457",
   "metadata": {},
   "outputs": [
    {
     "data": {
      "text/plain": [
       "'C:\\\\Users\\\\atiks\\\\A_project'"
      ]
     },
     "execution_count": 1,
     "metadata": {},
     "output_type": "execute_result"
    }
   ],
   "source": [
    "pwd"
   ]
  },
  {
   "cell_type": "code",
   "execution_count": null,
   "id": "b8f38efb",
   "metadata": {},
   "outputs": [],
   "source": []
  }
 ],
 "metadata": {
  "kernelspec": {
   "display_name": "Python 3 (ipykernel)",
   "language": "python",
   "name": "python3"
  },
  "language_info": {
   "codemirror_mode": {
    "name": "ipython",
    "version": 3
   },
   "file_extension": ".py",
   "mimetype": "text/x-python",
   "name": "python",
   "nbconvert_exporter": "python",
   "pygments_lexer": "ipython3",
   "version": "3.11.4"
  }
 },
 "nbformat": 4,
 "nbformat_minor": 5
}
